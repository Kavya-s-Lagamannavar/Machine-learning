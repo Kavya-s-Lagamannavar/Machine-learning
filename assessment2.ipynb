{
  "cells": [
    {
      "cell_type": "markdown",
      "metadata": {
        "id": "7muRWAEagDhh"
      },
      "source": [
        "1.write a function called Humpty_Dumpty that takes a number .If the number is divisible by 3. it should return \"Humpty\",if it is divisible by 5. it should return \"Dumpty\". if it is divisible by both 3 and 5 ,it should return the same number\n",
        "\n",
        "2.write a program whicg reads 2 matrices of3*2 and 2*3 respectively and perform matrix multiplication\n",
        "\n",
        "3.wite a function that returns the sum of multiples of 3 and 5 between - and limit(parameter).For example ,if limit is 20, it should return the sum of 3,5,6,9,10,12,15,18,20\n",
        "\n",
        "4.write a python program to demonstrate the folloeing conditions:\n",
        "  read data from .txt file\n",
        "  plot the data using suitable plots\n",
        "  fit a linear line assuming 'm'(slope)and 'c'(offset/bias)"
      ]
    },
    {
      "cell_type": "code",
      "execution_count": null,
      "metadata": {
        "colab": {
          "base_uri": "https://localhost:8080/"
        },
        "id": "vxDyuvQJhO8R",
        "outputId": "cd502cc6-bb25-43ff-b07a-7fda3c4c01c2"
      },
      "outputs": [
        {
          "name": "stdout",
          "output_type": "stream",
          "text": [
            "Enter a number: 5\n",
            "Dumpty\n"
          ]
        }
      ],
      "source": [
        "def Humpty_Dumpty(number):\n",
        "    if number % 3 == 0 and number % 5 == 0:\n",
        "        return number\n",
        "    elif number % 3 == 0:\n",
        "        return \"Humpty\"\n",
        "    elif number % 5 == 0:\n",
        "        return \"Dumpty\"\n",
        "    else:\n",
        "        return number\n",
        "\n",
        "# Example usage:\n",
        "num = int(input(\"Enter a number: \"))\n",
        "result = Humpty_Dumpty(num)\n",
        "print(result)\n"
      ]
    },
    {
      "cell_type": "code",
      "execution_count": 1,
      "metadata": {
        "colab": {
          "base_uri": "https://localhost:8080/"
        },
        "id": "rgKIbVonhjI6",
        "outputId": "9dbda8f7-404e-4581-931e-a0446a603409"
      },
      "outputs": [
        {
          "output_type": "stream",
          "name": "stdout",
          "text": [
            "Enter the first matrix (3x2):\n",
            "Enter element at (1, 1): 1\n",
            "Enter element at (1, 2): 2\n",
            "Enter element at (2, 1): 3\n",
            "Enter element at (2, 2): 4\n",
            "Enter element at (3, 1): 5\n",
            "Enter element at (3, 2): 1\n",
            "\n",
            "Enter the second matrix (2x3):\n",
            "Enter element at (1, 1): 4\n",
            "Enter element at (1, 2): 5\n",
            "Enter element at (1, 3): 6\n",
            "Enter element at (2, 1): 8\n",
            "Enter element at (2, 2): 9\n",
            "Enter element at (2, 3): 10\n",
            "\n",
            "Matrix multiplication result (3x3):\n",
            "[[20. 23. 26.]\n",
            " [44. 51. 58.]\n",
            " [28. 34. 40.]]\n"
          ]
        }
      ],
      "source": [
        "import numpy as np\n",
        "\n",
        "\n",
        "def read_matrix(rows, cols):\n",
        "    matrix = []\n",
        "    for i in range(rows):\n",
        "        row = []\n",
        "        for j in range(cols):\n",
        "            element = float(input(f\"Enter element at ({i+1}, {j+1}): \"))\n",
        "            row.append(element)\n",
        "        matrix.append(row)\n",
        "    return np.array(matrix)\n",
        "\n",
        "\n",
        "print(\"Enter the first matrix (3x2):\")\n",
        "matrix1 = read_matrix(3, 2)\n",
        "\n",
        "\n",
        "print(\"\\nEnter the second matrix (2x3):\")\n",
        "matrix2 = read_matrix(2, 3)\n",
        "\n",
        "\n",
        "result = np.dot(matrix1, matrix2)\n",
        "\n",
        "\n",
        "print(\"\\nMatrix multiplication result (3x3):\")\n",
        "print(result)\n",
        "\n"
      ]
    },
    {
      "cell_type": "code",
      "execution_count": null,
      "metadata": {
        "colab": {
          "base_uri": "https://localhost:8080/"
        },
        "id": "ZuvfcfZniCBc",
        "outputId": "4fb4bde5-9cd5-4ffa-a3ce-6a29c6dc4209"
      },
      "outputs": [
        {
          "name": "stdout",
          "output_type": "stream",
          "text": [
            "The sum of multiples of 3 and 5 between 1 and 20 is: 98\n"
          ]
        }
      ],
      "source": [
        "8def sum_multiples_of_3_and_5(limit):\n",
        "    result = 0\n",
        "\n",
        "    for num in range(1, limit + 1):\n",
        "        if num % 3 == 0 or num % 5 == 0:\n",
        "            result += num\n",
        "\n",
        "    return result\n",
        "\n",
        "# Example usage:\n",
        "limit = 20\n",
        "total_sum = sum_multiples_of_3_and_5(limit)\n",
        "print(f\"The sum of multiples of 3 and 5 between 1 and {limit} is: {total_sum}\")\n"
      ]
    },
    {
      "cell_type": "code",
      "execution_count": null,
      "metadata": {
        "id": "3A78jTbNi_lt"
      },
      "outputs": [],
      "source": []
    }
  ],
  "metadata": {
    "colab": {
      "provenance": []
    },
    "kernelspec": {
      "display_name": "Python 3",
      "name": "python3"
    },
    "language_info": {
      "name": "python"
    }
  },
  "nbformat": 4,
  "nbformat_minor": 0
}