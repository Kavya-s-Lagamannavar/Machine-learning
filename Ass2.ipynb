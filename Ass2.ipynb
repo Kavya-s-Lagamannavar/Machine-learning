{
  "nbformat": 4,
  "nbformat_minor": 0,
  "metadata": {
    "colab": {
      "provenance": []
    },
    "kernelspec": {
      "name": "python3",
      "display_name": "Python 3"
    },
    "language_info": {
      "name": "python"
    }
  },
  "cells": [
    {
      "cell_type": "code",
      "execution_count": 1,
      "metadata": {
        "colab": {
          "base_uri": "https://localhost:8080/"
        },
        "id": "twf2w92KyxLr",
        "outputId": "b695530e-ec54-4e65-cdb4-7c1c177ea469"
      },
      "outputs": [
        {
          "output_type": "stream",
          "name": "stdout",
          "text": [
            "Sum: 15\n",
            "Subtraction: 5\n",
            "Multiplication: 50\n",
            "Division: 2.0\n",
            "Floor Division: 2\n",
            "Modulus: 0\n",
            "Exponentiation: 100000\n"
          ]
        }
      ],
      "source": [
        "\n",
        "# Addition\n",
        "num1 = 10\n",
        "num2 = 5\n",
        "sum_result = num1 + num2\n",
        "print(\"Sum:\", sum_result)\n",
        "\n",
        "# Subtraction\n",
        "sub_result = num1 - num2\n",
        "print(\"Subtraction:\", sub_result)\n",
        "\n",
        "# Multiplication\n",
        "mul_result = num1 * num2\n",
        "print(\"Multiplication:\", mul_result)\n",
        "\n",
        "# Division\n",
        "div_result = num1 / num2\n",
        "print(\"Division:\", div_result)\n",
        "\n",
        "# Floor Division (integer division)\n",
        "floor_div_result = num1 // num2\n",
        "print(\"Floor Division:\", floor_div_result)\n",
        "\n",
        "# Modulus (remainder)\n",
        "mod_result = num1 % num2\n",
        "print(\"Modulus:\", mod_result)\n",
        "\n",
        "# Exponentiation\n",
        "exp_result = num1 ** num2\n",
        "print(\"Exponentiation:\", exp_result)\n"
      ]
    },
    {
      "cell_type": "markdown",
      "source": [],
      "metadata": {
        "id": "In7B2m37zIYD"
      }
    },
    {
      "cell_type": "code",
      "source": [
        "# Get input from the user\n",
        "age = int(input(\"Enter your age: \"))\n",
        "height = float(input(\"Enter your height in meters: \"))\n",
        "\n",
        "# Check if the user is eligible for a specific ride\n",
        "if age >= 12 and height >= 1.2:\n",
        "    print(\"You are eligible to ride the roller coaster!\")\n",
        "else:\n",
        "    print(\"Sorry, you are not eligible to ride the roller coaster.\")\n",
        "\n"
      ],
      "metadata": {
        "colab": {
          "base_uri": "https://localhost:8080/"
        },
        "id": "4RBF8AF1zM83",
        "outputId": "9cbf8fb1-fe64-4e71-f6fd-13523f3a0323"
      },
      "execution_count": 3,
      "outputs": [
        {
          "output_type": "stream",
          "name": "stdout",
          "text": [
            "Enter your age: 10\n",
            "Enter your height in meters: 2\n",
            "Sorry, you are not eligible to ride the roller coaster.\n"
          ]
        }
      ]
    },
    {
      "cell_type": "markdown",
      "source": [
        "\n",
        "\n",
        " Logical OR operator example"
      ],
      "metadata": {
        "id": "UYPRpB5ZzqZe"
      }
    },
    {
      "cell_type": "code",
      "source": [
        "\n",
        "\n",
        "# Taking input from the user\n",
        "age = int(input(\"Enter your age: \"))\n",
        "\n",
        "# Checking if the age is either less than 18 or greater than 65\n",
        "if age < 18 or age > 65:\n",
        "    print(\"You are eligible for special discounts.\")\n",
        "else:\n",
        "    print(\"You are not eligible for special discounts.\")\n"
      ],
      "metadata": {
        "colab": {
          "base_uri": "https://localhost:8080/"
        },
        "id": "Z48omHPe0oyO",
        "outputId": "6309fa9f-0652-48ec-9831-fd88b024cb66"
      },
      "execution_count": 7,
      "outputs": [
        {
          "output_type": "stream",
          "name": "stdout",
          "text": [
            "Enter your age: 19\n",
            "You are not eligible for special discounts.\n"
          ]
        }
      ]
    },
    {
      "cell_type": "markdown",
      "source": [],
      "metadata": {
        "id": "PIG82mvM1B9G"
      }
    },
    {
      "cell_type": "code",
      "source": [
        "\n",
        "num1 = float(input(\"Enter the first number: \"))\n",
        "num2 = float(input(\"Enter the second number: \"))\n",
        "\n",
        "\n",
        "if num1 > num2:\n",
        "    print(f\"{num1} is greater than {num2}\")\n",
        "elif num1 < num2:\n",
        "    print(f\"{num1} is less than {num2}\")\n",
        "else:\n",
        "    print(f\"{num1} is equal to {num2}\")\n"
      ],
      "metadata": {
        "colab": {
          "base_uri": "https://localhost:8080/"
        },
        "id": "_hPxfgVK0uHo",
        "outputId": "b64e9aac-1c59-45a4-bace-f3694afabb38"
      },
      "execution_count": 8,
      "outputs": [
        {
          "output_type": "stream",
          "name": "stdout",
          "text": [
            "Enter the first number: 1\n",
            "Enter the second number: 4\n",
            "1.0 is less than 4.0\n"
          ]
        }
      ]
    },
    {
      "cell_type": "markdown",
      "source": [
        "Compare the numbers using the == operator"
      ],
      "metadata": {
        "id": "aJZvNw0b1jhg"
      }
    },
    {
      "cell_type": "code",
      "source": [
        "\n",
        "num1 = float(input(\"Enter the first number: \"))\n",
        "num2 = float(input(\"Enter the second number: \"))\n",
        "\n",
        "if num1 == num2:\n",
        "    print(\"The numbers are equal.\")\n",
        "else:\n",
        "    print(\"The numbers are not equal.\")\n"
      ],
      "metadata": {
        "colab": {
          "base_uri": "https://localhost:8080/"
        },
        "id": "-J10XHXX1FKr",
        "outputId": "adad8da9-1f2d-47ea-d012-11c96a79b8f8"
      },
      "execution_count": 9,
      "outputs": [
        {
          "output_type": "stream",
          "name": "stdout",
          "text": [
            "Enter the first number: 10\n",
            "Enter the second number: 10\n",
            "The numbers are equal.\n"
          ]
        }
      ]
    },
    {
      "cell_type": "code",
      "source": [],
      "metadata": {
        "id": "KBC8sg2g1lr6"
      },
      "execution_count": null,
      "outputs": []
    }
  ]
}