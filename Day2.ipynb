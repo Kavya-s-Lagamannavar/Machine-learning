{
  "nbformat": 4,
  "nbformat_minor": 0,
  "metadata": {
    "colab": {
      "provenance": []
    },
    "kernelspec": {
      "name": "python3",
      "display_name": "Python 3"
    },
    "language_info": {
      "name": "python"
    }
  },
  "cells": [
    {
      "cell_type": "markdown",
      "source": [
        "If else statement is python\n"
      ],
      "metadata": {
        "id": "C33RYmwSpLpI"
      }
    },
    {
      "cell_type": "code",
      "source": [
        "a=input(\"Enter the value of a\")\n",
        "b=input(\"Enter the value of b\")\n",
        "print(a)\n",
        "print(b)"
      ],
      "metadata": {
        "colab": {
          "base_uri": "https://localhost:8080/"
        },
        "id": "jvqjICFHodiK",
        "outputId": "0766fb30-452b-45c7-96b4-777ece390058"
      },
      "execution_count": 1,
      "outputs": [
        {
          "output_type": "stream",
          "name": "stdout",
          "text": [
            "Enter the value of a1\n",
            "Enter the value of b3\n",
            "1\n",
            "3\n"
          ]
        }
      ]
    },
    {
      "cell_type": "code",
      "source": [
        "if a>b:\n",
        "  print(\"the value of a is greater than b\")\n",
        "if a==b:\n",
        "  print(\"both a and b are same\")\n",
        "else:\n",
        "  print(a<b)\n"
      ],
      "metadata": {
        "colab": {
          "base_uri": "https://localhost:8080/"
        },
        "id": "UzKuCIg2o8cx",
        "outputId": "c7e4a882-995a-49d9-97d8-367fa8d67437"
      },
      "execution_count": 3,
      "outputs": [
        {
          "output_type": "stream",
          "name": "stdout",
          "text": [
            "True\n"
          ]
        }
      ]
    },
    {
      "cell_type": "code",
      "source": [
        "if a>b:\n",
        "  print(\"the value of a is greater than b\")\n",
        "#if a==b:\n",
        "  print(\"both a and b are same\")\n",
        "else:\n",
        "  print('the value of b is greater than a')\n"
      ],
      "metadata": {
        "colab": {
          "base_uri": "https://localhost:8080/"
        },
        "id": "0u5nN9bHposo",
        "outputId": "5db7da59-cbbc-4eee-d044-b2555d48f80b"
      },
      "execution_count": 4,
      "outputs": [
        {
          "output_type": "stream",
          "name": "stdout",
          "text": [
            "the value of b is greater than a\n"
          ]
        }
      ]
    },
    {
      "cell_type": "code",
      "source": [
        "if a>b:\n",
        "  print(\"the value of a is greater than b\")\n",
        "#if a==b:\n",
        "  print(\"both a and b are same\")\n",
        "else:\n",
        "  print('Hello')"
      ],
      "metadata": {
        "colab": {
          "base_uri": "https://localhost:8080/"
        },
        "id": "Pfl0tM2LqQZp",
        "outputId": "eb0a9ceb-1e11-461f-d094-06fdbddba981"
      },
      "execution_count": 5,
      "outputs": [
        {
          "output_type": "stream",
          "name": "stdout",
          "text": [
            "Hello\n"
          ]
        }
      ]
    },
    {
      "cell_type": "code",
      "source": [
        "ball1_colour=\"green\"\n",
        "ball2_colour=\"blue\"\n",
        "ball3_colour=\"red\"\n",
        "ball4_colour=\"white\"\n",
        "\n",
        "pick_ball= input(\"Please pick a ball\")\n",
        "\n",
        "if pick_ball == ball1_colour:\n",
        "  print(\"green ball is picked\")\n",
        "\n",
        "elif pick_ball == ball2_colour:\n",
        "    print(\"blue ball is picked\")\n",
        "\n",
        "elif pick_ball == ball3_colour:\n",
        "    print(\"red ball is picked\")\n",
        "\n",
        "else:\n",
        "      print(\"white ball is picked\")\n",
        "\n",
        "\n",
        "\n"
      ],
      "metadata": {
        "colab": {
          "base_uri": "https://localhost:8080/"
        },
        "id": "6DJr98WKqXKt",
        "outputId": "547907b7-1938-4bfa-9a53-53270c609c8a"
      },
      "execution_count": 13,
      "outputs": [
        {
          "output_type": "stream",
          "name": "stdout",
          "text": [
            "Please pick a ballwhite\n",
            "white ball is picked\n"
          ]
        }
      ]
    },
    {
      "cell_type": "code",
      "source": [],
      "metadata": {
        "id": "-N-6PCO9rikn"
      },
      "execution_count": null,
      "outputs": []
    }
  ]
}