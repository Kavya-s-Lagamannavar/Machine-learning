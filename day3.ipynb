{
  "nbformat": 4,
  "nbformat_minor": 0,
  "metadata": {
    "colab": {
      "provenance": [],
      "history_visible": true
    },
    "kernelspec": {
      "name": "python3",
      "display_name": "Python 3"
    },
    "language_info": {
      "name": "python"
    }
  },
  "cells": [
    {
      "cell_type": "code",
      "execution_count": 2,
      "metadata": {
        "colab": {
          "base_uri": "https://localhost:8080/"
        },
        "id": "jU48CKxnIlJ_",
        "outputId": "9c94bd52-7e84-49ab-cc76-a7189a60e712"
      },
      "outputs": [
        {
          "output_type": "stream",
          "name": "stdout",
          "text": [
            "8\n",
            "14\n"
          ]
        }
      ],
      "source": [
        "print(8 & 12)\n",
        "print(0XF & 0XE)"
      ]
    },
    {
      "cell_type": "code",
      "source": [
        "print(8 | 12)\n",
        "print(0XF | 0XE)"
      ],
      "metadata": {
        "colab": {
          "base_uri": "https://localhost:8080/"
        },
        "id": "j5E7uraCJ4Hk",
        "outputId": "61394039-da1b-4016-b7b9-fab14d41ccac"
      },
      "execution_count": 3,
      "outputs": [
        {
          "output_type": "stream",
          "name": "stdout",
          "text": [
            "12\n",
            "15\n"
          ]
        }
      ]
    },
    {
      "cell_type": "code",
      "source": [
        "print(10>>1)\n",
        "print(10>>2)"
      ],
      "metadata": {
        "colab": {
          "base_uri": "https://localhost:8080/"
        },
        "id": "e43POih3KgCl",
        "outputId": "e991333e-b67a-4272-949a-ce9853ae48ef"
      },
      "execution_count": 5,
      "outputs": [
        {
          "output_type": "stream",
          "name": "stdout",
          "text": [
            "5\n",
            "2\n"
          ]
        }
      ]
    },
    {
      "cell_type": "code",
      "source": [
        "a=8\n",
        "print(a)\n",
        "a+=3\n",
        "print(a)\n",
        "a-=6\n",
        "print(a)\n",
        "a*=6\n",
        "print(a)"
      ],
      "metadata": {
        "colab": {
          "base_uri": "https://localhost:8080/"
        },
        "id": "4iljbAzYMJDW",
        "outputId": "c2a84367-437f-41fe-b1d1-27f1ef694327"
      },
      "execution_count": 11,
      "outputs": [
        {
          "output_type": "stream",
          "name": "stdout",
          "text": [
            "8\n",
            "11\n",
            "5\n",
            "30\n"
          ]
        }
      ]
    },
    {
      "cell_type": "code",
      "source": [
        "/=,%=,//,**=,&=, |=,>>=,<<="
      ],
      "metadata": {
        "id": "5t7j1LDaMSvO"
      },
      "execution_count": null,
      "outputs": []
    },
    {
      "cell_type": "code",
      "source": [],
      "metadata": {
        "id": "D33_3BeqNYoN"
      },
      "execution_count": null,
      "outputs": []
    }
  ]
}