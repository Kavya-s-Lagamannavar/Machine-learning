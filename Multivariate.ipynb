{
  "nbformat": 4,
  "nbformat_minor": 0,
  "metadata": {
    "colab": {
      "provenance": []
    },
    "kernelspec": {
      "name": "python3",
      "display_name": "Python 3"
    },
    "language_info": {
      "name": "python"
    }
  },
  "cells": [
    {
      "cell_type": "code",
      "execution_count": null,
      "metadata": {
        "id": "gG81HZQOMqtK"
      },
      "outputs": [],
      "source": []
    },
    {
      "cell_type": "code",
      "source": [
        "import pandas as pd\n",
        "import numpy as np\n",
        "from sklearn.linear_model import LinearRegression\n",
        "import matplotlib.pyplot as plt\n",
        "\n",
        "# Read the Excel file\n",
        "excel_file = \"import pandas as pd\"\n",
        "import numpy as np\n",
        "from sklearn.linear_model import LinearRegression\n",
        "import matplotlib.pyplot as plt\n",
        "\n",
        "# Read the Excel file\n",
        "excel_file = \"/content/drive/MyDrive/values.xlsx\"\n",
        "data = pd.read_excel(excel_file)\n",
        "\n",
        "# Assuming your Excel columns are named 'x' and 'y'\n",
        "x = data['x'].values.reshape(-1, 1)\n",
        "y = data['y'].values\n",
        "\n",
        "# Create a linear regression model\n",
        "model = LinearRegression()\n",
        "model.fit(x, y)\n",
        "\n",
        "# Predict y values using the model\n",
        "y_pred = model.predict(x)\n",
        "\n",
        "# Plot the original data and the regression line\n",
        "plt.scatter(x, y, label='Original Data')\n",
        "plt.plot(x, y_pred, color='red', label='Linear Regression')\n",
        "plt.xlabel('X values')\n",
        "plt.ylabel('Y values')\n",
        "plt.title('Linear Regression')\n",
        "plt.legend()\n",
        "plt.show()\n",
        "\n",
        "# Print the slope (coefficients) and intercept of the regression line\n",
        "print(\"Slope:\", model.coef_[0])\n",
        "print(\"Intercept\" :, model.intercept_)\"\n",
        "data = pd.read_excel('/content/drive/MyDrive/values.xlsx')\n",
        "\n",
        "# Assuming your Excel columns are named 'x' and 'y'\n",
        "x = data['x'].values.reshape(-1, 1)\n",
        "y = data['y'].values\n",
        "\n",
        "# Create a linear regression model\n",
        "model = LinearRegression()\n",
        "model.fit(x, y)\n",
        "\n",
        "# Predict y values using the model\n",
        "y_pred = model.predict(x)\n",
        "\n",
        "# Plot the original data and the regression line\n",
        "plt.scatter(x, y, label='Original Data')\n",
        "plt.plot(x, y_pred, color='red', label='Linear Regression')\n",
        "plt.xlabel('X values')\n",
        "plt.ylabel('Y values')\n",
        "plt.title('Linear Regression')\n",
        "plt.legend()\n",
        "plt.show()\n",
        "\n",
        "# Print the slope (coefficients) and intercept of the regression line\n",
        "print(\"Slope:\", model.coef_[0])\n",
        "print(\"Intercept:\", model.intercept_)"
      ],
      "metadata": {
        "colab": {
          "base_uri": "https://localhost:8080/",
          "height": 141
        },
        "id": "RpNDVBYRMrkW",
        "outputId": "e5da33f3-cc0d-4eb8-dc98-a0f2f55bacac"
      },
      "execution_count": 3,
      "outputs": [
        {
          "output_type": "error",
          "ename": "SyntaxError",
          "evalue": "ignored",
          "traceback": [
            "\u001b[0;36m  File \u001b[0;32m\"<ipython-input-3-b5162522193e>\"\u001b[0;36m, line \u001b[0;32m38\u001b[0m\n\u001b[0;31m    print(\"Intercept\" :, model.intercept_)\"\u001b[0m\n\u001b[0m                                          ^\u001b[0m\n\u001b[0;31mSyntaxError\u001b[0m\u001b[0;31m:\u001b[0m unterminated string literal (detected at line 38)\n"
          ]
        }
      ]
    },
    {
      "cell_type": "code",
      "source": [
        "from sklearn.linear_model import LinearRegression\n",
        "import numpy as np\n",
        "\n",
        "# Assume you have independent variables X and a dependent variable y\n",
        "X = np.array([[1, 2, 3], [2, 3, 4], [3, 4, 5], [4, 5, 6]])\n",
        "y = np.array([1, 2, 3, 4])\n",
        "\n",
        "# Create an instance of the LinearRegression class\n",
        "reg = LinearRegression()\n",
        "\n",
        "# Fit the model to the data\n",
        "reg.fit(X, y)\n",
        "\n",
        "# Print the coefficients of the model\n",
        "print(reg.coef_)"
      ],
      "metadata": {
        "id": "EBUMbbELMsrU",
        "colab": {
          "base_uri": "https://localhost:8080/"
        },
        "outputId": "4b82b85a-d537-4277-c17a-155d62e1d84b"
      },
      "execution_count": 2,
      "outputs": [
        {
          "output_type": "stream",
          "name": "stdout",
          "text": [
            "[0.33333333 0.33333333 0.33333333]\n"
          ]
        }
      ]
    },
    {
      "cell_type": "code",
      "source": [],
      "metadata": {
        "id": "TC4Z46FDOK4L"
      },
      "execution_count": null,
      "outputs": []
    }
  ]
}