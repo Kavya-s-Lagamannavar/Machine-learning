{
  "nbformat": 4,
  "nbformat_minor": 0,
  "metadata": {
    "colab": {
      "provenance": []
    },
    "kernelspec": {
      "name": "python3",
      "display_name": "Python 3"
    },
    "language_info": {
      "name": "python"
    }
  },
  "cells": [
    {
      "cell_type": "markdown",
      "source": [
        "Functions\n",
        "1.Define the function\n",
        "2.Invoking the function\n",
        "3.Passing the arguments"
      ],
      "metadata": {
        "id": "X-KC42y43wBj"
      }
    },
    {
      "cell_type": "code",
      "source": [
        "def cake_baker(p,f,s):\n",
        "  print(\"No of pieces=\",p)\n",
        "  print(\"Flavour is=\",p)\n",
        "  print(\"size is=\",s)\n",
        "\n",
        "cake_baker(\"5\",\"Chocolate\",\"2kg\")\n",
        "cake_baker(\"100\",\"vanilla\",\"3kg\")"
      ],
      "metadata": {
        "colab": {
          "base_uri": "https://localhost:8080/"
        },
        "id": "nO0LkIbE3-D-",
        "outputId": "70c4a4ee-44d2-4fe2-a641-28776ba9ef3a"
      },
      "execution_count": null,
      "outputs": [
        {
          "output_type": "stream",
          "name": "stdout",
          "text": [
            "No of pieces= 5\n",
            "Flavour is= 5\n",
            "size is= 2kg\n",
            "No of pieces= 100\n",
            "Flavour is= 100\n",
            "size is= 3kg\n"
          ]
        }
      ]
    },
    {
      "cell_type": "code",
      "source": [
        "def cake_baker(p,f,s):\n",
        "  print(\"No of pieces=\",p)\n",
        "  print(\"Flavour is=\",p)\n",
        "  print(\"size is=\",s)\n",
        "\n",
        "cake_baker(\"5\",\"Chocolate\",\"2kg\",toppings)\n",
        "cake_baker(\"100\",\"vanilla\",\"3kg\")"
      ],
      "metadata": {
        "colab": {
          "base_uri": "https://localhost:8080/",
          "height": 228
        },
        "id": "RDC3rhtx4Uop",
        "outputId": "5383f3c9-9a7f-4b9f-d389-ff9ca62de470"
      },
      "execution_count": null,
      "outputs": [
        {
          "output_type": "error",
          "ename": "NameError",
          "evalue": "ignored",
          "traceback": [
            "\u001b[0;31m---------------------------------------------------------------------------\u001b[0m",
            "\u001b[0;31mNameError\u001b[0m                                 Traceback (most recent call last)",
            "\u001b[0;32m<ipython-input-7-c192b6ccf60f>\u001b[0m in \u001b[0;36m<cell line: 6>\u001b[0;34m()\u001b[0m\n\u001b[1;32m      4\u001b[0m   \u001b[0mprint\u001b[0m\u001b[0;34m(\u001b[0m\u001b[0;34m\"size is=\"\u001b[0m\u001b[0;34m,\u001b[0m\u001b[0ms\u001b[0m\u001b[0;34m)\u001b[0m\u001b[0;34m\u001b[0m\u001b[0;34m\u001b[0m\u001b[0m\n\u001b[1;32m      5\u001b[0m \u001b[0;34m\u001b[0m\u001b[0m\n\u001b[0;32m----> 6\u001b[0;31m \u001b[0mcake_baker\u001b[0m\u001b[0;34m(\u001b[0m\u001b[0;34m\"5\"\u001b[0m\u001b[0;34m,\u001b[0m\u001b[0;34m\"Chocolate\"\u001b[0m\u001b[0;34m,\u001b[0m\u001b[0;34m\"2kg\"\u001b[0m\u001b[0;34m,\u001b[0m\u001b[0mtoppings\u001b[0m\u001b[0;34m)\u001b[0m\u001b[0;34m\u001b[0m\u001b[0;34m\u001b[0m\u001b[0m\n\u001b[0m\u001b[1;32m      7\u001b[0m \u001b[0mcake_baker\u001b[0m\u001b[0;34m(\u001b[0m\u001b[0;34m\"100\"\u001b[0m\u001b[0;34m,\u001b[0m\u001b[0;34m\"vanilla\"\u001b[0m\u001b[0;34m,\u001b[0m\u001b[0;34m\"3kg\"\u001b[0m\u001b[0;34m)\u001b[0m\u001b[0;34m\u001b[0m\u001b[0;34m\u001b[0m\u001b[0m\n",
            "\u001b[0;31mNameError\u001b[0m: name 'toppings' is not defined"
          ]
        }
      ]
    },
    {
      "cell_type": "code",
      "source": [
        "def add(*args):\n",
        "  sum=0\n",
        "  for i in args:\n",
        "   sum+=i\n",
        "  return sum\n",
        "print(add(1,2,3,4,5))"
      ],
      "metadata": {
        "colab": {
          "base_uri": "https://localhost:8080/"
        },
        "id": "zrQkgOOY6TjI",
        "outputId": "fd27a206-20f5-4ba1-9607-888600204f12"
      },
      "execution_count": null,
      "outputs": [
        {
          "output_type": "stream",
          "name": "stdout",
          "text": [
            "15\n"
          ]
        }
      ]
    },
    {
      "cell_type": "code",
      "source": [
        "def add(*bunch):\n",
        "  sum=0\n",
        "  for i in bunch:\n",
        "   sum+=i\n",
        "  return sum\n",
        "print(add(1,2,3,4,5))"
      ],
      "metadata": {
        "colab": {
          "base_uri": "https://localhost:8080/"
        },
        "id": "zGpb10SQ629c",
        "outputId": "08d2a15c-eae6-4a50-abe1-7ad82fbb0b93"
      },
      "execution_count": null,
      "outputs": [
        {
          "output_type": "stream",
          "name": "stdout",
          "text": [
            "15\n"
          ]
        }
      ]
    },
    {
      "cell_type": "code",
      "source": [
        "def greet(**kwargs):\n",
        "  print(\"Hello\")\n",
        "  for key,value in kwargs.items():\n",
        "    print(value, end=\"\")\n",
        "\n",
        "greet(name=\"kavya\",usn=\"kj3034\",branch=\"ECE\")\n"
      ],
      "metadata": {
        "colab": {
          "base_uri": "https://localhost:8080/"
        },
        "id": "UaaL4Fuk7Oef",
        "outputId": "00684e2a-3684-4565-8fce-8a68c38c4d74"
      },
      "execution_count": null,
      "outputs": [
        {
          "output_type": "stream",
          "name": "stdout",
          "text": [
            "Hello\n",
            "kavyakj3034ECE"
          ]
        }
      ]
    },
    {
      "cell_type": "code",
      "source": [
        "import random\n",
        "\n",
        "x=random.randint(1,9)\n",
        "print(x)\n",
        "\n",
        "a=random.random\n",
        "print(a)"
      ],
      "metadata": {
        "colab": {
          "base_uri": "https://localhost:8080/"
        },
        "id": "RQWEV5jK8bdv",
        "outputId": "69cfc4e1-8852-49a7-ac34-08d1dc4f131e"
      },
      "execution_count": null,
      "outputs": [
        {
          "output_type": "stream",
          "name": "stdout",
          "text": [
            "2\n",
            "<built-in method random of Random object at 0x5bb12ccc8120>\n"
          ]
        }
      ]
    },
    {
      "cell_type": "code",
      "source": [
        "import random\n",
        "\n",
        "computer=random.randint(1,9)\n",
        "userinput=int(input(\"Enter the number between 1 and 9\"))\n",
        "print(computer)\n",
        "print(userinput)\n",
        "\n",
        "if computer>userinput:\n",
        "  print(\"Computer Won\")\n",
        "elif computer==userinput:\n",
        "  print(\"TIF\")\n",
        "else:\n",
        " print(\"You won\")"
      ],
      "metadata": {
        "colab": {
          "base_uri": "https://localhost:8080/"
        },
        "id": "9opQvc999OEI",
        "outputId": "11253845-3b86-406c-d88a-1e3f1bef9347"
      },
      "execution_count": null,
      "outputs": [
        {
          "output_type": "stream",
          "name": "stdout",
          "text": [
            "Enter the number between 1 and 99\n",
            "7\n",
            "9\n",
            "You won\n"
          ]
        }
      ]
    },
    {
      "cell_type": "code",
      "source": [
        "import random\n",
        "\n",
        "gamelist=['rock','paper','scissors']\n",
        "z=random.choice(gamelist)\n",
        "user=input(\"Enter either rock or paper or scissors \")\n",
        "print(comp)\n",
        "print(user)\n",
        "\n",
        "if(comp==\"rock\"and user==\"paper\"):\n",
        "  print(\"computer won\")\n",
        "elif(comp==\"paper\" and user==\"scissors\"):\n",
        "  print(\"You won\")\n",
        "elif(comp==\"scissor\"and user==\"paper\"):\n",
        "  print(\"Computer won\")\n",
        "\n",
        "  else:"
      ],
      "metadata": {
        "colab": {
          "base_uri": "https://localhost:8080/"
        },
        "id": "tKio9UZw-v2v",
        "outputId": "a6ba6898-c236-4f36-c8e5-6b06857ae8e4"
      },
      "execution_count": null,
      "outputs": [
        {
          "output_type": "error",
          "ename": "SyntaxError",
          "evalue": "ignored",
          "traceback": [
            "\u001b[0;36m  File \u001b[0;32m\"<ipython-input-1-4ff69b8543e4>\"\u001b[0;36m, line \u001b[0;32m16\u001b[0m\n\u001b[0;31m    else:\u001b[0m\n\u001b[0m    ^\u001b[0m\n\u001b[0;31mSyntaxError\u001b[0m\u001b[0;31m:\u001b[0m invalid syntax\n"
          ]
        }
      ]
    },
    {
      "cell_type": "code",
      "source": [],
      "metadata": {
        "id": "BksJfOlIBjz-"
      },
      "execution_count": null,
      "outputs": []
    },
    {
      "cell_type": "markdown",
      "source": [
        "Numpy- Numerical Python"
      ],
      "metadata": {
        "id": "ohvX1KMfCZXc"
      }
    },
    {
      "cell_type": "code",
      "source": [
        "import numpy as np\n"
      ],
      "metadata": {
        "id": "cxWRmdllDY_S"
      },
      "execution_count": null,
      "outputs": []
    },
    {
      "cell_type": "code",
      "source": [
        "a=np.array([35,1,34,36,27,48,49])\n",
        "print(type(a))\n",
        "\n",
        "b=np.zeros(3)\n",
        "c=np.ones(4)\n",
        "\n",
        "print(b)\n",
        "print(c)\n",
        "\n",
        "d=np.sort(a)\n",
        "print(d)"
      ],
      "metadata": {
        "colab": {
          "base_uri": "https://localhost:8080/"
        },
        "id": "4VQtuCjCEUbB",
        "outputId": "22b34d8d-d6bc-4e4e-b5e7-faebc319db5e"
      },
      "execution_count": null,
      "outputs": [
        {
          "output_type": "stream",
          "name": "stdout",
          "text": [
            "<class 'numpy.ndarray'>\n",
            "[0. 0. 0.]\n",
            "[1. 1. 1. 1.]\n",
            "[ 1 27 34 35 36 48 49]\n"
          ]
        }
      ]
    },
    {
      "cell_type": "code",
      "source": [],
      "metadata": {
        "id": "pc8-I7FPEk79"
      },
      "execution_count": null,
      "outputs": []
    }
  ]
}