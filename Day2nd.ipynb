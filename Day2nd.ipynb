{
  "nbformat": 4,
  "nbformat_minor": 0,
  "metadata": {
    "colab": {
      "provenance": []
    },
    "kernelspec": {
      "name": "python3",
      "display_name": "Python 3"
    },
    "language_info": {
      "name": "python"
    }
  },
  "cells": [
    {
      "cell_type": "markdown",
      "source": [
        "Python operators Arithmetic operators"
      ],
      "metadata": {
        "id": "Eub9--nWtq9U"
      }
    },
    {
      "cell_type": "code",
      "source": [
        "x=12\n",
        "y=4\n",
        "\n",
        "\n",
        "sum=x+y\n",
        "diff=x-y\n",
        "prod=x*y\n",
        "div=x/y\n",
        "fdiv=x//y\n",
        "mod=x%y\n",
        "power= x**y\n",
        "print(sum)\n",
        "print(diff)\n",
        "print(prod)\n",
        "print(div)\n",
        "print(fdiv)\n",
        "print(mod)\n",
        "print(power)\n",
        "\n"
      ],
      "metadata": {
        "colab": {
          "base_uri": "https://localhost:8080/"
        },
        "id": "IcGX0Rdutz2E",
        "outputId": "01b67122-14eb-452e-9616-a6454c6b55fd"
      },
      "execution_count": 1,
      "outputs": [
        {
          "output_type": "stream",
          "name": "stdout",
          "text": [
            "16\n",
            "8\n",
            "48\n",
            "3.0\n",
            "3\n",
            "0\n",
            "20736\n"
          ]
        }
      ]
    },
    {
      "cell_type": "markdown",
      "source": [
        "20 Handson with logical and comparison operators"
      ],
      "metadata": {
        "id": "V6Uq4Y5Mv0yN"
      }
    },
    {
      "cell_type": "code",
      "source": [
        "age=input(\"Enter the age\")\n",
        "print(type(age))"
      ],
      "metadata": {
        "colab": {
          "base_uri": "https://localhost:8080/"
        },
        "id": "NuOy4QT3v5u1",
        "outputId": "c008d589-6d21-45b4-9b73-7fe180e0b286"
      },
      "execution_count": 2,
      "outputs": [
        {
          "output_type": "stream",
          "name": "stdout",
          "text": [
            "Enter the age12\n",
            "<class 'str'>\n"
          ]
        }
      ]
    },
    {
      "cell_type": "markdown",
      "source": [
        "typecasting"
      ],
      "metadata": {
        "id": "ajwfhVOlwTle"
      }
    },
    {
      "cell_type": "code",
      "source": [
        "age=int(input(\"Enter the age\"))\n",
        "print(type(age))"
      ],
      "metadata": {
        "colab": {
          "base_uri": "https://localhost:8080/"
        },
        "id": "OPV1t8vkwI5D",
        "outputId": "e021e9f4-2352-48e5-f8f3-0841f701cab1"
      },
      "execution_count": 3,
      "outputs": [
        {
          "output_type": "stream",
          "name": "stdout",
          "text": [
            "Enter the age24\n",
            "<class 'int'>\n"
          ]
        }
      ]
    },
    {
      "cell_type": "markdown",
      "source": [
        "logical and comparison operators"
      ],
      "metadata": {
        "id": "hXl47lzLwj4F"
      }
    },
    {
      "cell_type": "code",
      "source": [
        "age=int(input(\"Enter the age\"))\n",
        "print(age>18 and age<60)"
      ],
      "metadata": {
        "colab": {
          "base_uri": "https://localhost:8080/"
        },
        "id": "acRXztLOwZa5",
        "outputId": "785ba5cb-02c7-4853-f0e1-fc2bb5795f74"
      },
      "execution_count": 4,
      "outputs": [
        {
          "output_type": "stream",
          "name": "stdout",
          "text": [
            "Enter the age20\n",
            "True\n"
          ]
        }
      ]
    },
    {
      "cell_type": "code",
      "source": [
        "age=int(input(\"Enter the age\"))\n",
        "print(age>18 and age<60)"
      ],
      "metadata": {
        "colab": {
          "base_uri": "https://localhost:8080/"
        },
        "id": "AmRn0fRpwt0O",
        "outputId": "5453a6cd-3617-4a71-c62e-ecce2cdea96a"
      },
      "execution_count": 5,
      "outputs": [
        {
          "output_type": "stream",
          "name": "stdout",
          "text": [
            "Enter the age10\n",
            "False\n"
          ]
        }
      ]
    },
    {
      "cell_type": "code",
      "source": [
        "age=int(input(\"Enter the age\"))\n",
        "print(age>18 and age<60)\n",
        "print(age>18 or age>21)"
      ],
      "metadata": {
        "colab": {
          "base_uri": "https://localhost:8080/"
        },
        "id": "uHfim8ZSwzCI",
        "outputId": "76c73ea0-59a6-4648-8de1-0c970a5b8b8b"
      },
      "execution_count": 6,
      "outputs": [
        {
          "output_type": "stream",
          "name": "stdout",
          "text": [
            "Enter the age10\n",
            "False\n",
            "False\n"
          ]
        }
      ]
    },
    {
      "cell_type": "code",
      "source": [
        "age=int(input(\"Enter the age\"))\n",
        "print(age>18 and age<60)\n",
        "print(age>18 or age>21)"
      ],
      "metadata": {
        "colab": {
          "base_uri": "https://localhost:8080/"
        },
        "id": "R609qTJaxJSU",
        "outputId": "47c8ceb1-41be-4156-ea3b-9e46641234f1"
      },
      "execution_count": 7,
      "outputs": [
        {
          "output_type": "stream",
          "name": "stdout",
          "text": [
            "Enter the age20\n",
            "True\n",
            "True\n"
          ]
        }
      ]
    },
    {
      "cell_type": "code",
      "source": [],
      "metadata": {
        "id": "pFAmpJCkxNVO"
      },
      "execution_count": null,
      "outputs": []
    }
  ]
}